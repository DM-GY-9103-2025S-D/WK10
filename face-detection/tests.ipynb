{
  "nbformat": 4,
  "nbformat_minor": 0,
  "metadata": {
    "colab": {
      "provenance": []
    },
    "kernelspec": {
      "name": "python3",
      "display_name": "Python 3"
    },
    "language_info": {
      "name": "python"
    }
  },
  "cells": [
    {
      "cell_type": "markdown",
      "source": [
        "## YOLO"
      ],
      "metadata": {
        "id": "7URKIyMlgjRz"
      }
    },
    {
      "cell_type": "code",
      "source": [
        "!pip install ultralytics"
      ],
      "metadata": {
        "id": "hD9b-JVRY3ed"
      },
      "execution_count": null,
      "outputs": []
    },
    {
      "cell_type": "code",
      "execution_count": null,
      "metadata": {
        "id": "-mwzV7c_YpKA"
      },
      "outputs": [],
      "source": [
        "import base64\n",
        "import PIL.Image as PImage\n",
        "\n",
        "from io import BytesIO\n",
        "from ultralytics import YOLO\n",
        "from huggingface_hub import hf_hub_download"
      ]
    },
    {
      "cell_type": "code",
      "source": [
        "# model_path = hf_hub_download(repo_id=\"arnabdhar/YOLOv8-Face-Detection\", filename=\"model.pt\")\n",
        "model_path = hf_hub_download(repo_id=\"AdamCodd/YOLOv11n-face-detection\", filename=\"model.pt\")\n",
        "\n",
        "detection_model = YOLO(model_path)"
      ],
      "metadata": {
        "id": "lMfeylVzan8Z"
      },
      "execution_count": null,
      "outputs": []
    },
    {
      "cell_type": "code",
      "source": [
        "# from PIL\n",
        "img = PImage.open(\"people.jpg\").convert(\"RGB\")\n",
        "iw, ih = img.size\n",
        "img = img.resize((800, int(800/iw*ih)))\n",
        "display(img)"
      ],
      "metadata": {
        "id": "9ahhPoSmaWs0"
      },
      "execution_count": null,
      "outputs": []
    },
    {
      "cell_type": "code",
      "source": [
        "# from base64\n",
        "with open(\"./people.jpg\", \"rb\") as inf:\n",
        "  img64 = f\"data:image/jpeg;base64,{base64.b64encode(inf.read()).decode('utf-8')}\"\n",
        "\n",
        "image_data = base64.b64decode(img64.split(\"base64,\")[1])\n",
        "img = PImage.open(BytesIO(image_data))\n",
        "iw, ih = img.size\n",
        "img = img.resize((800, int(800/iw*ih)))\n",
        "display(img)"
      ],
      "metadata": {
        "id": "PpF49mTMd-Do"
      },
      "execution_count": null,
      "outputs": []
    },
    {
      "cell_type": "code",
      "source": [
        "output = detection_model.predict(img, verbose=False)"
      ],
      "metadata": {
        "id": "0vE1L3wpavNr"
      },
      "execution_count": null,
      "outputs": []
    },
    {
      "cell_type": "code",
      "source": [
        "faces =[]\n",
        "\n",
        "for out in output:\n",
        "  for bbox,conf in zip(out.boxes.xywhn, out.boxes.conf):\n",
        "    faces.append({\n",
        "      \"xywhn\": bbox.tolist(),\n",
        "      \"conf\": conf.item()\n",
        "    })\n",
        "len(faces)"
      ],
      "metadata": {
        "id": "h0fIIuA2YxDZ"
      },
      "execution_count": null,
      "outputs": []
    },
    {
      "cell_type": "markdown",
      "source": [
        "## dlib\n",
        "\n",
        "https://github.com/davisking/dlib"
      ],
      "metadata": {
        "id": "-8T4Xvh8O45o"
      }
    },
    {
      "cell_type": "code",
      "source": [
        "!pip install dlib"
      ],
      "metadata": {
        "id": "olqK82PsO-dd"
      },
      "execution_count": null,
      "outputs": []
    },
    {
      "cell_type": "code",
      "source": [
        "!wget http://dlib.net/files/shape_predictor_5_face_landmarks.dat.bz2\n",
        "!bzip2 -d shape_predictor_5_face_landmarks.dat.bz2"
      ],
      "metadata": {
        "id": "BQlcrFd_Pn8F"
      },
      "execution_count": null,
      "outputs": []
    },
    {
      "cell_type": "code",
      "source": [
        "import dlib\n",
        "import numpy as np\n",
        "from PIL import Image as PImage"
      ],
      "metadata": {
        "id": "ZO0VRptgQBPm"
      },
      "execution_count": null,
      "outputs": []
    },
    {
      "cell_type": "code",
      "source": [
        "predictor_path = \"./shape_predictor_5_face_landmarks.dat\"\n",
        "face_file_path = \"./people.jpg\"\n",
        "\n",
        "detector = dlib.get_frontal_face_detector()\n",
        "predictor = dlib.shape_predictor(predictor_path)\n",
        "\n",
        "img = np.array(PImage.open(face_file_path))\n",
        "\n",
        "# upsample by 1\n",
        "dets = detector(img, 1)\n",
        "\n",
        "num_faces = len(dets)\n",
        "if num_faces == 0:\n",
        "  print(\"Sorry, there were no faces found in '{}'\".format(face_file_path))\n",
        "\n",
        "num_faces"
      ],
      "metadata": {
        "id": "TQ3TMdbfPIrD"
      },
      "execution_count": null,
      "outputs": []
    },
    {
      "cell_type": "code",
      "source": [
        "# Find the 5 face landmarks we need to do the alignment.\n",
        "faces = [predictor(img, detection) for detection in dets]\n",
        "len(faces)"
      ],
      "metadata": {
        "id": "fEDfijdiQk9f"
      },
      "execution_count": null,
      "outputs": []
    },
    {
      "cell_type": "code",
      "source": [
        "images = dlib.get_face_chips(img, dlib.full_object_detections(faces), size=170, padding=0.35)\n",
        "\n",
        "for im in images:\n",
        "  display(PImage.fromarray(im).crop((20,0,150,170)))"
      ],
      "metadata": {
        "id": "Ju5gKPd4QFfF"
      },
      "execution_count": null,
      "outputs": []
    }
  ]
}