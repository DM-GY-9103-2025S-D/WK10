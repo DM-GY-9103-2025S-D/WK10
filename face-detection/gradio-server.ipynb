{
 "cells": [
  {
   "cell_type": "code",
   "execution_count": null,
   "metadata": {
    "_cell_guid": "b1076dfc-b9ad-4769-8c92-a6c4dae69d19",
    "_uuid": "8f2839f25d086af736a60e9eeb907d3b93b6e0e5",
    "trusted": true
   },
   "outputs": [],
   "source": [
    "!pip install gradio huggingface_hub ultralytics"
   ]
  },
  {
   "cell_type": "code",
   "execution_count": null,
   "metadata": {
    "trusted": true
   },
   "outputs": [],
   "source": [
    "import gradio as gr\n",
    "from ultralytics import YOLO\n",
    "from huggingface_hub import hf_hub_download"
   ]
  },
  {
   "cell_type": "code",
   "execution_count": null,
   "metadata": {
    "trusted": true
   },
   "outputs": [],
   "source": [
    "# model_path = hf_hub_download(repo_id=\"arnabdhar/YOLOv8-Face-Detection\", filename=\"model.pt\")\n",
    "model_path = hf_hub_download(repo_id=\"AdamCodd/YOLOv11n-face-detection\", filename=\"model.pt\")\n",
    "model = YOLO(model_path)"
   ]
  },
  {
   "cell_type": "code",
   "execution_count": null,
   "metadata": {
    "trusted": true
   },
   "outputs": [],
   "source": [
    "def detect_faces(img):\n",
    "  output = model.predict(img, verbose=False)\n",
    "  faces =[]\n",
    "\n",
    "  for out in output:\n",
    "    for bbox,conf in zip(out.boxes.xywhn, out.boxes.conf):\n",
    "      faces.append({\n",
    "        \"xywhn\": bbox.tolist(),\n",
    "        \"conf\": conf.item()\n",
    "      })\n",
    "  \n",
    "  return faces\n",
    "\n",
    "with gr.Blocks() as demo:\n",
    "  gr.Interface(\n",
    "    detect_faces,\n",
    "    inputs=gr.Image(type=\"pil\"),\n",
    "    outputs=\"json\",\n",
    "  )\n",
    "\n",
    "  demo.launch()"
   ]
  }
 ],
 "metadata": {
  "kaggle": {
   "accelerator": "nvidiaTeslaT4",
   "dataSources": [],
   "dockerImageVersionId": 30919,
   "isGpuEnabled": true,
   "isInternetEnabled": true,
   "language": "python",
   "sourceType": "notebook"
  },
  "kernelspec": {
   "display_name": "Python 3",
   "language": "python",
   "name": "python3"
  },
  "language_info": {
   "codemirror_mode": {
    "name": "ipython",
    "version": 3
   },
   "file_extension": ".py",
   "mimetype": "text/x-python",
   "name": "python",
   "nbconvert_exporter": "python",
   "pygments_lexer": "ipython3",
   "version": "3.10.12"
  }
 },
 "nbformat": 4,
 "nbformat_minor": 4
}
