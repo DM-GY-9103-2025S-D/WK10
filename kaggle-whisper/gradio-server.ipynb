{
 "cells": [
  {
   "cell_type": "code",
   "execution_count": null,
   "metadata": {},
   "outputs": [],
   "source": [
    "!pip install gradio"
   ]
  },
  {
   "cell_type": "code",
   "execution_count": null,
   "metadata": {
    "trusted": true
   },
   "outputs": [],
   "source": [
    "import gradio as gr\n",
    "\n",
    "import torch\n",
    "\n",
    "from transformers import AutoModelForSpeechSeq2Seq, AutoProcessor, pipeline"
   ]
  },
  {
   "cell_type": "code",
   "execution_count": null,
   "metadata": {},
   "outputs": [],
   "source": [
    "device = \"cuda:0\" if torch.cuda.is_available() else \"cpu\"\n",
    "torch_dtype = torch.float16 if torch.cuda.is_available() else torch.float32\n",
    "\n",
    "model_id = \"openai/whisper-large-v3\"\n",
    "\n",
    "model = AutoModelForSpeechSeq2Seq.from_pretrained(\n",
    "  model_id,\n",
    "  torch_dtype=torch_dtype,\n",
    "  low_cpu_mem_usage=True,\n",
    "  use_safetensors=True\n",
    ").to(device)\n",
    "\n",
    "processor = AutoProcessor.from_pretrained(model_id)\n",
    "\n",
    "pipe = pipeline(\n",
    "  \"automatic-speech-recognition\",\n",
    "  model=model,\n",
    "  tokenizer=processor.tokenizer,\n",
    "  feature_extractor=processor.feature_extractor,\n",
    "  torch_dtype=torch_dtype,\n",
    "  device=device,\n",
    ")"
   ]
  },
  {
   "cell_type": "code",
   "execution_count": null,
   "metadata": {},
   "outputs": [],
   "source": [
    "# speech is tuple: (sample rate, samples)\n",
    "def transcribe(speech):\n",
    "  # if not mono, average channels\n",
    "  samples = speech[1]\n",
    "  if len(samples.shape) > 1:\n",
    "    samples = samples.mean(axis=1)\n",
    "  result = pipe(samples)\n",
    "  return result[\"text\"]"
   ]
  },
  {
   "cell_type": "code",
   "execution_count": null,
   "metadata": {
    "trusted": true
   },
   "outputs": [],
   "source": [
    "# some test files for english :\n",
    "# https://audio-samples.github.io/#section-4\n",
    "\n",
    "with gr.Blocks() as demo:\n",
    "  gr.Interface(\n",
    "    fn=transcribe,\n",
    "    inputs=[gr.Audio()],\n",
    "    outputs=\"text\",\n",
    "  )\n",
    "\n",
    "  demo.launch()"
   ]
  }
 ],
 "metadata": {
  "kaggle": {
   "accelerator": "nvidiaTeslaT4",
   "dataSources": [],
   "dockerImageVersionId": 30919,
   "isGpuEnabled": true,
   "isInternetEnabled": true,
   "language": "python",
   "sourceType": "notebook"
  },
  "kernelspec": {
   "display_name": "9103",
   "language": "python",
   "name": "python3"
  },
  "language_info": {
   "codemirror_mode": {
    "name": "ipython",
    "version": 3
   },
   "file_extension": ".py",
   "mimetype": "text/x-python",
   "name": "python",
   "nbconvert_exporter": "python",
   "pygments_lexer": "ipython3",
   "version": "3.10.15"
  }
 },
 "nbformat": 4,
 "nbformat_minor": 4
}
